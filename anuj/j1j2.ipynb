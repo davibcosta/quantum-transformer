{
 "cells": [
  {
   "cell_type": "code",
   "execution_count": 1,
   "id": "520771a1-6ca6-4075-ab7e-9b967fbd27bd",
   "metadata": {},
   "outputs": [
    {
     "name": "stderr",
     "output_type": "stream",
     "text": [
      "/home/ubuntu/east-1/vit-env/lib/python3.10/site-packages/tqdm/auto.py:21: TqdmWarning: IProgress not found. Please update jupyter and ipywidgets. See https://ipywidgets.readthedocs.io/en/stable/user_install.html\n",
      "  from .autonotebook import tqdm as notebook_tqdm\n"
     ]
    }
   ],
   "source": [
    "# Import necessary libraries\n",
    "import netket.experimental as nkx\n",
    "import functools\n",
    "from functools import partial\n",
    "import flax.linen as nn\n",
    "import numpy as np\n",
    "import jax.numpy as jnp\n",
    "import flax\n",
    "import optax\n",
    "import csv\n",
    "import numpy as np\n",
    "import os\n",
    "import sys \n",
    "from math import pi\n",
    "import json "
   ]
  },
  {
   "cell_type": "code",
   "execution_count": 2,
   "id": "1ff9d6c6-06c8-4627-bd5b-5e47f603fed9",
   "metadata": {},
   "outputs": [
    {
     "name": "stdout",
     "output_type": "stream",
     "text": [
      "NetKet version: 3.15.0\n",
      "[CudaDevice(id=0)]\n"
     ]
    }
   ],
   "source": [
    "os.environ[\"JAX_PLATFORM_NAME\"] = \"cuda\"\n",
    "os.environ[\"XLA_PYTHON_CLIENT_PREALLOCATE\"] = \"false\"\n",
    "\n",
    "import jax\n",
    "# Check NetKet installation and print version\n",
    "import netket as nk\n",
    "print(f\"NetKet version: {nk.__version__}\")\n",
    "# Print available JAX devices for the current process\n",
    "print(jax.devices())"
   ]
  },
  {
   "cell_type": "code",
   "execution_count": 3,
   "id": "5f4d8055-4905-4c77-8d1c-b52172b53851",
   "metadata": {},
   "outputs": [],
   "source": [
    "L = 4\n",
    "# Build square lattice with nearest and next-nearest neighbor edges\n",
    "lattice = nk.graph.Square(L, max_neighbor_order=2)\n",
    "hi = nk.hilbert.Spin(s=1 / 2, N=lattice.n_nodes, inverted_ordering=False)\n",
    "# Heisenberg with coupling J=1.0 for nearest neighbors\n",
    "# and J=0.5 for next-nearest neighbors\n",
    "H = nk.operator.Heisenberg(hilbert=hi, graph=lattice, J=[1.0, 0.51])"
   ]
  },
  {
   "cell_type": "code",
   "execution_count": 4,
   "id": "a285adff-7c8e-40cf-8a3a-f3306ac35073",
   "metadata": {},
   "outputs": [
    {
     "data": {
      "text/plain": [
       "(65536, 65536)"
      ]
     },
     "execution_count": 4,
     "metadata": {},
     "output_type": "execute_result"
    }
   ],
   "source": [
    "sparse_ham = H.to_sparse()\n",
    "sparse_ham.shape"
   ]
  },
  {
   "cell_type": "code",
   "execution_count": 5,
   "id": "b39ad248-b92d-4d6a-ba75-a6322b232f0d",
   "metadata": {},
   "outputs": [
    {
     "name": "stdout",
     "output_type": "stream",
     "text": [
      "eigenvalues with scipy sparse: [-33.73952093 -32.60188042]\n",
      "Ground state energy from Exact Diagonalization: -33.73952093296431\n"
     ]
    }
   ],
   "source": [
    "from scipy.sparse.linalg import eigsh\n",
    "\n",
    "eig_vals, eig_vecs = eigsh(sparse_ham, k=2, which=\"SA\")\n",
    "\n",
    "print(\"eigenvalues with scipy sparse:\", eig_vals)\n",
    "\n",
    "E_gs = eig_vals[0]\n",
    "print(\"Ground state energy from Exact Diagonalization:\", E_gs)"
   ]
  },
  {
   "cell_type": "code",
   "execution_count": 6,
   "id": "711c83d7-c453-4446-a3bc-c0998e748cd9",
   "metadata": {},
   "outputs": [],
   "source": [
    "import flax.linen as nn\n",
    "import netket.nn as nknn\n",
    "import jax.numpy as jnp\n",
    "\n",
    "class FFN(nn.Module):\n",
    "    alpha : int = 1\n",
    "    @nn.compact\n",
    "    def __call__(self, x):\n",
    "        x = nn.Dense(features=self.alpha * x.shape[-1], \n",
    "                     use_bias=True, \n",
    "                     param_dtype=np.complex128, \n",
    "                     kernel_init=nn.initializers.normal(stddev=0.01), \n",
    "                     bias_init=nn.initializers.normal(stddev=0.01)\n",
    "                    )(x)\n",
    "        x = nknn.log_cosh(x)\n",
    "        x = jnp.sum(x, axis=-1)\n",
    "        return x"
   ]
  },
  {
   "cell_type": "code",
   "execution_count": 10,
   "id": "20ded71b-9049-4c3b-a60c-881b970c785a",
   "metadata": {},
   "outputs": [],
   "source": [
    "model = FFN(alpha=2)\n",
    "sampler = nk.sampler.MetropolisLocal(hi)\n",
    "vstate = nk.vqs.MCState(sampler, model, n_samples=1024)"
   ]
  },
  {
   "cell_type": "code",
   "execution_count": 12,
   "id": "e9e8a7a5-7fcd-41e5-b56e-54422e2442f7",
   "metadata": {},
   "outputs": [
    {
     "name": "stderr",
     "output_type": "stream",
     "text": [
      "100%|██████████| 100/100 [00:06<00:00, 15.51it/s, Energy=-30.97-0.09j ± 0.43 [σ²=111.43, R̂=1.0596]] \n"
     ]
    },
    {
     "name": "stdout",
     "output_type": "stream",
     "text": [
      "Optimized energy and relative error:  -31.090-0.283j ± 0.066 [σ²=2.469, R̂=1.2331] 0.07896093242541961\n"
     ]
    }
   ],
   "source": [
    "optimizer = nk.optimizer.Sgd(learning_rate=0.01)\n",
    "\n",
    "sr = nk.optimizer.SR(diag_shift=1e-6, holomorphic=False)\n",
    "# Notice the use, again of Stochastic Reconfiguration, which considerably improves the optimisation\n",
    "gs = nk.driver.VMC(H, optimizer, variational_state=vstate,preconditioner=sr)\n",
    "\n",
    "log=nk.logging.RuntimeLog()\n",
    "gs.run(n_iter=100,out=log)\n",
    "\n",
    "ffn_energy=vstate.expect(H)\n",
    "error=abs((ffn_energy.mean-E_gs)/E_gs)\n",
    "print(\"Optimized energy and relative error: \",ffn_energy,error)"
   ]
  },
  {
   "cell_type": "code",
   "execution_count": null,
   "id": "0cf2f9dc-1c70-4176-83ae-fdcac51d6115",
   "metadata": {},
   "outputs": [],
   "source": []
  }
 ],
 "metadata": {
  "kernelspec": {
   "display_name": "vit-env",
   "language": "python",
   "name": "vit-env"
  },
  "language_info": {
   "codemirror_mode": {
    "name": "ipython",
    "version": 3
   },
   "file_extension": ".py",
   "mimetype": "text/x-python",
   "name": "python",
   "nbconvert_exporter": "python",
   "pygments_lexer": "ipython3",
   "version": "3.10.12"
  }
 },
 "nbformat": 4,
 "nbformat_minor": 5
}
